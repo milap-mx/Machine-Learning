{
  "cells": [
    {
      "cell_type": "markdown",
      "metadata": {
        "id": "view-in-github",
        "colab_type": "text"
      },
      "source": [
        "<a href=\"https://colab.research.google.com/github/milap-mx/Machine-Learning/blob/main/My_Kmeans_clustering_02.ipynb\" target=\"_parent\"><img src=\"https://colab.research.google.com/assets/colab-badge.svg\" alt=\"Open In Colab\"/></a>"
      ]
    },
    {
      "cell_type": "code",
      "execution_count": null,
      "metadata": {
        "id": "XmV-8_E5lO04"
      },
      "outputs": [],
      "source": [
        "import numpy as np\n",
        "import matplotlib.pyplot as plt\n",
        "from matplotlib import style\n",
        "style.use('dark_background')\n",
        "import pandas as pd"
      ]
    },
    {
      "cell_type": "markdown",
      "metadata": {
        "id": "mlPSbDznlO07"
      },
      "source": [
        "## Create data from Sklearn"
      ]
    },
    {
      "cell_type": "code",
      "execution_count": null,
      "metadata": {
        "id": "2Mpg20dvlO09"
      },
      "outputs": [],
      "source": [
        "from sklearn.datasets import make_blobs"
      ]
    },
    {
      "cell_type": "code",
      "execution_count": null,
      "metadata": {
        "id": "U1xOh2HMlO09"
      },
      "outputs": [],
      "source": [
        "data = make_blobs(n_samples = 200, n_features = 2, random_state = 42)"
      ]
    },
    {
      "cell_type": "code",
      "execution_count": null,
      "metadata": {
        "id": "z4mhbUTClO0-",
        "colab": {
          "base_uri": "https://localhost:8080/"
        },
        "outputId": "f7262fc4-b036-4d66-927e-11cfa863c3f1"
      },
      "outputs": [
        {
          "output_type": "execute_result",
          "data": {
            "text/plain": [
              "tuple"
            ]
          },
          "metadata": {},
          "execution_count": 4
        }
      ],
      "source": [
        "type(data)"
      ]
    },
    {
      "cell_type": "code",
      "execution_count": null,
      "metadata": {
        "id": "Js_GEB-vlO0_",
        "colab": {
          "base_uri": "https://localhost:8080/"
        },
        "outputId": "26d6bcf5-d46b-419e-a3af-e4d7811cb027"
      },
      "outputs": [
        {
          "output_type": "execute_result",
          "data": {
            "text/plain": [
              "(array([[ 6.50565335,  2.4470026 ],\n",
              "        [-5.12894273,  9.83618863],\n",
              "        [-6.89187396, -7.77736396],\n",
              "        [-8.32771153, -8.28757337],\n",
              "        [-7.46899195, -6.0305075 ],\n",
              "        [-6.13233359, -6.26973933],\n",
              "        [-2.70155859,  9.31583347],\n",
              "        [-7.3506655 , -6.64805966],\n",
              "        [ 4.375222  ,  4.69333885],\n",
              "        [-6.06676507, -6.25048075],\n",
              "        [ 3.71294836,  1.91364433],\n",
              "        [ 4.86733877,  3.28031244],\n",
              "        [ 5.72293008,  3.02697174],\n",
              "        [ 4.15451529,  2.05504382],\n",
              "        [ 2.61473625,  2.159624  ],\n",
              "        [-7.7086222 , -7.44029063],\n",
              "        [-2.58120774, 10.01781903],\n",
              "        [-7.70184759, -6.63642238],\n",
              "        [ 5.32613903,  0.36045381],\n",
              "        [-5.29361038, -8.11792509],\n",
              "        [ 6.76203503,  3.00563494],\n",
              "        [ 4.16493353,  1.31984045],\n",
              "        [-6.55690863, -7.70734054],\n",
              "        [-2.44166942,  7.58953794],\n",
              "        [-6.19767422, -7.19037635],\n",
              "        [-3.18611962,  9.62596242],\n",
              "        [-3.6601912 ,  9.38998415],\n",
              "        [-7.03141229, -6.29179239],\n",
              "        [-2.30033403,  7.054616  ],\n",
              "        [ 3.40292813,  0.65271307],\n",
              "        [ 3.12050887,  1.48893561],\n",
              "        [ 6.9545374 ,  0.10590449],\n",
              "        [-8.59276172, -5.52623722],\n",
              "        [-7.70512439, -7.20149543],\n",
              "        [-2.14780202, 10.55232269],\n",
              "        [-2.40954626,  8.51081047],\n",
              "        [-6.46669574, -7.44383415],\n",
              "        [-1.92234053, 11.20474175],\n",
              "        [-6.63466062, -7.38705277],\n",
              "        [-2.41743685,  7.02671721],\n",
              "        [ 3.43958243,  1.63866845],\n",
              "        [-3.31769123,  8.51252908],\n",
              "        [-7.86113584, -6.41800612],\n",
              "        [ 6.27229014,  0.54302831],\n",
              "        [-7.69784787, -4.78772232],\n",
              "        [ 5.26554618,  1.11601213],\n",
              "        [ 3.75036441,  1.1573594 ],\n",
              "        [-6.80982511, -7.26542319],\n",
              "        [ 3.26220947,  1.03534464],\n",
              "        [-1.59379551,  9.34303724],\n",
              "        [-4.68982426, -7.68840788],\n",
              "        [-3.05358035,  9.12520872],\n",
              "        [-5.70018707, -7.34928525],\n",
              "        [-1.71816568,  8.10489867],\n",
              "        [-3.98771961,  8.29444192],\n",
              "        [-3.11090424, 10.86656431],\n",
              "        [-4.74659382, -8.83219739],\n",
              "        [ 4.38731068,  0.7253865 ],\n",
              "        [-3.21125072,  8.68662398],\n",
              "        [ 3.44857534,  2.62972329],\n",
              "        [-5.92920335, -7.45701325],\n",
              "        [-3.42862186, 10.56422053],\n",
              "        [-5.98002732, -6.57281007],\n",
              "        [-6.8986434 , -7.88263896],\n",
              "        [-6.00730655, -6.69676759],\n",
              "        [-6.6805675 , -7.48032647],\n",
              "        [-3.57150134,  9.48787856],\n",
              "        [-1.68665271,  7.79344248],\n",
              "        [-5.90450746, -7.02716697],\n",
              "        [-1.77073104,  9.18565441],\n",
              "        [-2.18511365,  8.62920385],\n",
              "        [-6.65553471, -6.86751719],\n",
              "        [-3.4172217 ,  7.60198243],\n",
              "        [ 3.97809237,  2.82560302],\n",
              "        [-1.10640331,  7.61243507],\n",
              "        [ 5.1549141 ,  2.48695563],\n",
              "        [ 3.56898634,  2.4556421 ],\n",
              "        [-2.97867201,  9.55684617],\n",
              "        [ 5.15492652,  5.82590117],\n",
              "        [-2.98837186,  8.82862715],\n",
              "        [-2.52269485,  7.9565752 ],\n",
              "        [ 4.85397258,  0.72743091],\n",
              "        [ 1.3986115 ,  0.94878204],\n",
              "        [-6.55546084, -7.01025265],\n",
              "        [-6.78263123, -6.28495257],\n",
              "        [-6.33252981, -7.08230225],\n",
              "        [-6.87438349, -6.833129  ],\n",
              "        [-2.42215055,  8.71527878],\n",
              "        [ 4.69808755,  0.83019939],\n",
              "        [-7.09730839, -5.78133274],\n",
              "        [ 4.68545068,  1.32156934],\n",
              "        [-3.92456837,  8.59364081],\n",
              "        [-4.05986105,  9.0828491 ],\n",
              "        [-2.54390939,  7.84560809],\n",
              "        [ 4.65288073,  3.42670376],\n",
              "        [-7.59807141, -7.09355674],\n",
              "        [-3.34841515,  8.70507375],\n",
              "        [ 4.89037169,  2.31961789],\n",
              "        [ 5.08369826,  2.74780374],\n",
              "        [-2.90130578,  7.55077118],\n",
              "        [-5.57414838, -6.85910575],\n",
              "        [-7.32969266, -6.25725966],\n",
              "        [-2.85191214,  8.21200886],\n",
              "        [-7.08774944, -7.37311053],\n",
              "        [-2.21307735,  9.2753414 ],\n",
              "        [ 4.41641605,  2.68717018],\n",
              "        [-6.36028068, -5.34737068],\n",
              "        [ 4.32460959,  2.7321389 ],\n",
              "        [ 5.80304259,  1.98340274],\n",
              "        [-8.47405485, -7.47948462],\n",
              "        [ 4.89976163,  2.75499256],\n",
              "        [ 5.14486612,  2.83892488],\n",
              "        [-2.16557933,  7.25124597],\n",
              "        [-6.1894832 , -7.28133007],\n",
              "        [-3.03895783,  9.52755356],\n",
              "        [-9.00352292, -7.40586461],\n",
              "        [-5.42848358, -5.92083877],\n",
              "        [-4.23411546,  8.4519986 ],\n",
              "        [-2.96983639, 10.07140835],\n",
              "        [-2.62484591,  8.71318243],\n",
              "        [-4.72644473, -7.64745716],\n",
              "        [ 6.40533308,  2.37815139],\n",
              "        [-3.49973395,  8.4479884 ],\n",
              "        [-6.80382263, -7.5572713 ],\n",
              "        [-6.53787122, -5.00393875],\n",
              "        [ 4.19336388,  2.82956848],\n",
              "        [-2.17793419,  9.98983126],\n",
              "        [-1.69568041,  7.78342181],\n",
              "        [ 3.7560214 ,  2.12689479],\n",
              "        [-1.4781981 ,  9.94556625],\n",
              "        [ 5.5938806 ,  2.62456094],\n",
              "        [-6.90052879, -6.76278221],\n",
              "        [-1.04354885,  8.78850983],\n",
              "        [-6.85511702, -6.3821113 ],\n",
              "        [-7.71934903, -7.47950224],\n",
              "        [ 5.60325497,  2.38595061],\n",
              "        [ 4.70415886,  0.89542491],\n",
              "        [ 6.78382293,  2.60708871],\n",
              "        [-2.41212007,  9.98293112],\n",
              "        [ 5.90678999,  1.26550022],\n",
              "        [-4.42796884,  8.98777225],\n",
              "        [-3.52202874,  9.32853346],\n",
              "        [-8.1998604 , -5.04865083],\n",
              "        [ 3.0323956 ,  2.15780354],\n",
              "        [ 4.56277713,  2.31432166],\n",
              "        [-3.83738367,  9.21114736],\n",
              "        [ 3.95985411,  2.20542338],\n",
              "        [-6.02196757, -7.04004812],\n",
              "        [-6.76610985, -6.21797892],\n",
              "        [ 4.19983435,  2.10391026],\n",
              "        [-3.6155326 ,  7.8180795 ],\n",
              "        [-6.89814033, -7.16876823],\n",
              "        [ 5.461939  ,  3.86996267],\n",
              "        [-6.99416704, -5.64229328],\n",
              "        [ 3.86705362,  1.73635108],\n",
              "        [-5.72151632, -6.0884469 ],\n",
              "        [-7.88564457, -8.09429821],\n",
              "        [-2.25164723,  8.93984021],\n",
              "        [ 5.11311646,  1.90034077],\n",
              "        [ 5.79847442,  1.15248737],\n",
              "        [-1.6966718 , 10.37052616],\n",
              "        [ 4.39449072,  1.21943352],\n",
              "        [ 4.9976662 ,  2.53395421],\n",
              "        [-6.98838734, -6.47839787],\n",
              "        [-2.72886951,  9.3713987 ],\n",
              "        [ 5.21076935,  3.10873532],\n",
              "        [ 4.93295131,  1.25881827],\n",
              "        [-3.29245092,  8.69222461],\n",
              "        [-6.59863532, -7.50280911],\n",
              "        [ 4.91656964,  2.80035293],\n",
              "        [-5.6019623 , -7.47168098],\n",
              "        [-2.50408417,  8.77969899],\n",
              "        [ 3.92457513,  2.65276743],\n",
              "        [-6.52261171, -7.57301919],\n",
              "        [-1.36637481,  9.76621916],\n",
              "        [ 6.08115213,  0.53730753],\n",
              "        [-2.44896741, 11.47752824],\n",
              "        [-3.10983631,  8.72259238],\n",
              "        [-2.67048333,  9.41833699],\n",
              "        [ 3.37899488,  2.89103163],\n",
              "        [-2.97261532,  8.54855637],\n",
              "        [ 3.8473581 ,  1.85843324],\n",
              "        [-6.78195109, -7.65311938],\n",
              "        [-6.25550737, -6.25176408],\n",
              "        [-6.05421084, -6.06659996],\n",
              "        [-1.03130358,  8.49601591],\n",
              "        [ 5.1618204 ,  2.27015436],\n",
              "        [ 4.81305976,  2.35848706],\n",
              "        [ 3.79308512,  0.45832246],\n",
              "        [-2.54502366, 10.57892978],\n",
              "        [-2.1475616 ,  8.36916637],\n",
              "        [ 3.9095122 ,  2.18962827],\n",
              "        [-7.77804186, -6.38819042],\n",
              "        [-7.63875985, -6.72971581],\n",
              "        [-2.26723535,  7.10100588],\n",
              "        [-6.56871963, -5.40475338],\n",
              "        [-0.62301172,  9.18886394],\n",
              "        [-0.92998481,  9.78172086],\n",
              "        [ 4.16794697,  3.06212028],\n",
              "        [ 3.66519717,  2.76025429]]),\n",
              " array([1, 0, 2, 2, 2, 2, 0, 2, 1, 2, 1, 1, 1, 1, 1, 2, 0, 2, 1, 2, 1, 1,\n",
              "        2, 0, 2, 0, 0, 2, 0, 1, 1, 1, 2, 2, 0, 0, 2, 0, 2, 0, 1, 0, 2, 1,\n",
              "        2, 1, 1, 2, 1, 0, 2, 0, 2, 0, 0, 0, 2, 1, 0, 1, 2, 0, 2, 2, 2, 2,\n",
              "        0, 0, 2, 0, 0, 2, 0, 1, 0, 1, 1, 0, 1, 0, 0, 1, 1, 2, 2, 2, 2, 0,\n",
              "        1, 2, 1, 0, 0, 0, 1, 2, 0, 1, 1, 0, 2, 2, 0, 2, 0, 1, 2, 1, 1, 2,\n",
              "        1, 1, 0, 2, 0, 2, 2, 0, 0, 0, 2, 1, 0, 2, 2, 1, 0, 0, 1, 0, 1, 2,\n",
              "        0, 2, 2, 1, 1, 1, 0, 1, 0, 0, 2, 1, 1, 0, 1, 2, 2, 1, 0, 2, 1, 2,\n",
              "        1, 2, 2, 0, 1, 1, 0, 1, 1, 2, 0, 1, 1, 0, 2, 1, 2, 0, 1, 2, 0, 1,\n",
              "        0, 0, 0, 1, 0, 1, 2, 2, 2, 0, 1, 1, 1, 0, 0, 1, 2, 2, 0, 2, 0, 0,\n",
              "        1, 1]))"
            ]
          },
          "metadata": {},
          "execution_count": 5
        }
      ],
      "source": [
        "data"
      ]
    },
    {
      "cell_type": "code",
      "execution_count": null,
      "metadata": {
        "id": "F6BRoQKHlO0_"
      },
      "outputs": [],
      "source": [
        "X = data[0]  # Features of dataset"
      ]
    },
    {
      "cell_type": "code",
      "execution_count": null,
      "metadata": {
        "id": "wg9tK15AlO1A",
        "colab": {
          "base_uri": "https://localhost:8080/"
        },
        "outputId": "b66340e8-adc4-4bbc-d87d-e5757008d7b0"
      },
      "outputs": [
        {
          "output_type": "execute_result",
          "data": {
            "text/plain": [
              "numpy.ndarray"
            ]
          },
          "metadata": {},
          "execution_count": 7
        }
      ],
      "source": [
        "type(X)"
      ]
    },
    {
      "cell_type": "markdown",
      "metadata": {
        "id": "Mi-W74yYOQOo"
      },
      "source": [
        "## Using Elbow method to find the optimal number of clusters"
      ]
    },
    {
      "cell_type": "code",
      "execution_count": null,
      "metadata": {
        "id": "5vkrSyjmlO1B",
        "colab": {
          "base_uri": "https://localhost:8080/"
        },
        "outputId": "b715088d-bd89-4e3e-dd45-8ca203268399"
      },
      "outputs": [
        {
          "output_type": "stream",
          "name": "stderr",
          "text": [
            "/usr/local/lib/python3.10/dist-packages/sklearn/cluster/_kmeans.py:870: FutureWarning: The default value of `n_init` will change from 10 to 'auto' in 1.4. Set the value of `n_init` explicitly to suppress the warning\n",
            "  warnings.warn(\n",
            "/usr/local/lib/python3.10/dist-packages/sklearn/cluster/_kmeans.py:870: FutureWarning: The default value of `n_init` will change from 10 to 'auto' in 1.4. Set the value of `n_init` explicitly to suppress the warning\n",
            "  warnings.warn(\n",
            "/usr/local/lib/python3.10/dist-packages/sklearn/cluster/_kmeans.py:870: FutureWarning: The default value of `n_init` will change from 10 to 'auto' in 1.4. Set the value of `n_init` explicitly to suppress the warning\n",
            "  warnings.warn(\n",
            "/usr/local/lib/python3.10/dist-packages/sklearn/cluster/_kmeans.py:870: FutureWarning: The default value of `n_init` will change from 10 to 'auto' in 1.4. Set the value of `n_init` explicitly to suppress the warning\n",
            "  warnings.warn(\n",
            "/usr/local/lib/python3.10/dist-packages/sklearn/cluster/_kmeans.py:870: FutureWarning: The default value of `n_init` will change from 10 to 'auto' in 1.4. Set the value of `n_init` explicitly to suppress the warning\n",
            "  warnings.warn(\n",
            "/usr/local/lib/python3.10/dist-packages/sklearn/cluster/_kmeans.py:870: FutureWarning: The default value of `n_init` will change from 10 to 'auto' in 1.4. Set the value of `n_init` explicitly to suppress the warning\n",
            "  warnings.warn(\n",
            "/usr/local/lib/python3.10/dist-packages/sklearn/cluster/_kmeans.py:870: FutureWarning: The default value of `n_init` will change from 10 to 'auto' in 1.4. Set the value of `n_init` explicitly to suppress the warning\n",
            "  warnings.warn(\n",
            "/usr/local/lib/python3.10/dist-packages/sklearn/cluster/_kmeans.py:870: FutureWarning: The default value of `n_init` will change from 10 to 'auto' in 1.4. Set the value of `n_init` explicitly to suppress the warning\n",
            "  warnings.warn(\n",
            "/usr/local/lib/python3.10/dist-packages/sklearn/cluster/_kmeans.py:870: FutureWarning: The default value of `n_init` will change from 10 to 'auto' in 1.4. Set the value of `n_init` explicitly to suppress the warning\n",
            "  warnings.warn(\n",
            "/usr/local/lib/python3.10/dist-packages/sklearn/cluster/_kmeans.py:870: FutureWarning: The default value of `n_init` will change from 10 to 'auto' in 1.4. Set the value of `n_init` explicitly to suppress the warning\n",
            "  warnings.warn(\n"
          ]
        }
      ],
      "source": [
        "from sklearn.cluster import KMeans\n",
        "wcss = []\n",
        "for i in range(1, 11):\n",
        "    kmeans = KMeans(n_clusters = i, init = 'k-means++', random_state = 42)\n",
        "    kmeans.fit(X)\n",
        "    wcss.append(kmeans.inertia_) # kmeans.inertia_ will give us wcss (Within Cluster sum of square error)\n"
      ]
    },
    {
      "cell_type": "code",
      "source": [
        "plt.figure(figsize = (10,6))\n",
        "plt.plot(range(1, 11), wcss, lw = 3)\n",
        "plt.title('The Elbow Method', fontsize = 25)\n",
        "plt.xlabel('Number of clusters', fontsize = 15)\n",
        "plt.ylabel('WCSS', fontsize =15 )\n",
        "plt.show()"
      ],
      "metadata": {
        "id": "cGKJFei-PXnW",
        "colab": {
          "base_uri": "https://localhost:8080/",
          "height": 583
        },
        "outputId": "fd37bdcb-639c-45db-83a2-59aa095319d7"
      },
      "execution_count": null,
      "outputs": [
        {
          "output_type": "display_data",
          "data": {
            "text/plain": [
              "<Figure size 1000x600 with 1 Axes>"
            ],
            "image/png": "[encoded data removed]"
          },
          "metadata": {}
        }
      ]
    },
    {
      "cell_type": "markdown",
      "metadata": {
        "id": "LAWJNhCnlO1C"
      },
      "source": [
        "## Applying KMeans"
      ]
    },
    {
      "cell_type": "code",
      "execution_count": null,
      "metadata": {
        "id": "atpc6GY4lO1C"
      },
      "outputs": [],
      "source": [
        "from sklearn.cluster import KMeans"
      ]
    },
    {
      "cell_type": "code",
      "execution_count": null,
      "metadata": {
        "id": "cWtOwmRClO1C",
        "colab": {
          "base_uri": "https://localhost:8080/"
        },
        "outputId": "ff350b6d-bb86-456a-dae9-061c8069da14"
      },
      "outputs": [
        {
          "output_type": "stream",
          "name": "stderr",
          "text": [
            "/usr/local/lib/python3.10/dist-packages/sklearn/cluster/_kmeans.py:870: FutureWarning: The default value of `n_init` will change from 10 to 'auto' in 1.4. Set the value of `n_init` explicitly to suppress the warning\n",
            "  warnings.warn(\n"
          ]
        }
      ],
      "source": [
        "kmeans = KMeans(n_clusters = 3, init = 'k-means++', random_state = 42)\n",
        "y_pred = kmeans.fit_predict(X)"
      ]
    },
    {
      "cell_type": "code",
      "execution_count": null,
      "metadata": {
        "id": "pTV1WOYtlO1D",
        "colab": {
          "base_uri": "https://localhost:8080/"
        },
        "outputId": "e389055d-264f-4214-8830-793f06f3f0e4"
      },
      "outputs": [
        {
          "output_type": "execute_result",
          "data": {
            "text/plain": [
              "array([2, 0, 1, 1, 1, 1, 0, 1, 2, 1, 2, 2, 2, 2, 2, 1, 0, 1, 2, 1, 2, 2,\n",
              "       1, 0, 1, 0, 0, 1, 0, 2, 2, 2, 1, 1, 0, 0, 1, 0, 1, 0, 2, 0, 1, 2,\n",
              "       1, 2, 2, 1, 2, 0, 1, 0, 1, 0, 0, 0, 1, 2, 0, 2, 1, 0, 1, 1, 1, 1,\n",
              "       0, 0, 1, 0, 0, 1, 0, 2, 0, 2, 2, 0, 2, 0, 0, 2, 2, 1, 1, 1, 1, 0,\n",
              "       2, 1, 2, 0, 0, 0, 2, 1, 0, 2, 2, 0, 1, 1, 0, 1, 0, 2, 1, 2, 2, 1,\n",
              "       2, 2, 0, 1, 0, 1, 1, 0, 0, 0, 1, 2, 0, 1, 1, 2, 0, 0, 2, 0, 2, 1,\n",
              "       0, 1, 1, 2, 2, 2, 0, 2, 0, 0, 1, 2, 2, 0, 2, 1, 1, 2, 0, 1, 2, 1,\n",
              "       2, 1, 1, 0, 2, 2, 0, 2, 2, 1, 0, 2, 2, 0, 1, 2, 1, 0, 2, 1, 0, 2,\n",
              "       0, 0, 0, 2, 0, 2, 1, 1, 1, 0, 2, 2, 2, 0, 0, 2, 1, 1, 0, 1, 0, 0,\n",
              "       2, 2], dtype=int32)"
            ]
          },
          "metadata": {},
          "execution_count": 12
        }
      ],
      "source": [
        "y_pred"
      ]
    },
    {
      "cell_type": "code",
      "source": [
        "y_pred.shape"
      ],
      "metadata": {
        "id": "GsCQi1LySK0m",
        "colab": {
          "base_uri": "https://localhost:8080/"
        },
        "outputId": "55e88e89-c071-4090-cf83-acfd826283ad"
      },
      "execution_count": null,
      "outputs": [
        {
          "output_type": "execute_result",
          "data": {
            "text/plain": [
              "(200,)"
            ]
          },
          "metadata": {},
          "execution_count": 13
        }
      ]
    },
    {
      "cell_type": "code",
      "source": [
        "sum(y_pred == 0)"
      ],
      "metadata": {
        "id": "RxEj-g1jUUTl",
        "colab": {
          "base_uri": "https://localhost:8080/"
        },
        "outputId": "baf880c2-b3c6-4694-f228-dee37e9aa304"
      },
      "execution_count": null,
      "outputs": [
        {
          "output_type": "execute_result",
          "data": {
            "text/plain": [
              "67"
            ]
          },
          "metadata": {},
          "execution_count": 14
        }
      ]
    },
    {
      "cell_type": "code",
      "execution_count": null,
      "metadata": {
        "id": "oKJV82uolO1D",
        "colab": {
          "base_uri": "https://localhost:8080/"
        },
        "outputId": "d56ca27a-133e-49d5-e247-444a1830cfcb"
      },
      "outputs": [
        {
          "output_type": "execute_result",
          "data": {
            "text/plain": [
              "array([[-2.65882129,  8.95756821],\n",
              "       [-6.74539381, -6.85144337],\n",
              "       [ 4.63218228,  2.10121377]])"
            ]
          },
          "metadata": {},
          "execution_count": 15
        }
      ],
      "source": [
        "kmeans.cluster_centers_"
      ]
    },
    {
      "cell_type": "code",
      "source": [
        "X[y_pred == 0, 0]  # Samples of X ( from the first feature of X )  belongs to cluster 01"
      ],
      "metadata": {
        "id": "Qu-peBYKTnA9",
        "colab": {
          "base_uri": "https://localhost:8080/"
        },
        "outputId": "b1073ffc-afc1-4fce-e004-4d6c6081a2fc"
      },
      "execution_count": null,
      "outputs": [
        {
          "output_type": "execute_result",
          "data": {
            "text/plain": [
              "array([-5.12894273, -2.70155859, -2.58120774, -2.44166942, -3.18611962,\n",
              "       -3.6601912 , -2.30033403, -2.14780202, -2.40954626, -1.92234053,\n",
              "       -2.41743685, -3.31769123, -1.59379551, -3.05358035, -1.71816568,\n",
              "       -3.98771961, -3.11090424, -3.21125072, -3.42862186, -3.57150134,\n",
              "       -1.68665271, -1.77073104, -2.18511365, -3.4172217 , -1.10640331,\n",
              "       -2.97867201, -2.98837186, -2.52269485, -2.42215055, -3.92456837,\n",
              "       -4.05986105, -2.54390939, -3.34841515, -2.90130578, -2.85191214,\n",
              "       -2.21307735, -2.16557933, -3.03895783, -4.23411546, -2.96983639,\n",
              "       -2.62484591, -3.49973395, -2.17793419, -1.69568041, -1.4781981 ,\n",
              "       -1.04354885, -2.41212007, -4.42796884, -3.52202874, -3.83738367,\n",
              "       -3.6155326 , -2.25164723, -1.6966718 , -2.72886951, -3.29245092,\n",
              "       -2.50408417, -1.36637481, -2.44896741, -3.10983631, -2.67048333,\n",
              "       -2.97261532, -1.03130358, -2.54502366, -2.1475616 , -2.26723535,\n",
              "       -0.62301172, -0.92998481])"
            ]
          },
          "metadata": {},
          "execution_count": 16
        }
      ]
    },
    {
      "cell_type": "code",
      "source": [
        "X[y_pred == 0, 1] # Samples of X ( from the second feature of X )  belongs to cluster 01"
      ],
      "metadata": {
        "id": "BLer3AkvWHFr",
        "colab": {
          "base_uri": "https://localhost:8080/"
        },
        "outputId": "9bf3be93-41db-4027-b881-053d4a86f01f"
      },
      "execution_count": null,
      "outputs": [
        {
          "output_type": "execute_result",
          "data": {
            "text/plain": [
              "array([ 9.83618863,  9.31583347, 10.01781903,  7.58953794,  9.62596242,\n",
              "        9.38998415,  7.054616  , 10.55232269,  8.51081047, 11.20474175,\n",
              "        7.02671721,  8.51252908,  9.34303724,  9.12520872,  8.10489867,\n",
              "        8.29444192, 10.86656431,  8.68662398, 10.56422053,  9.48787856,\n",
              "        7.79344248,  9.18565441,  8.62920385,  7.60198243,  7.61243507,\n",
              "        9.55684617,  8.82862715,  7.9565752 ,  8.71527878,  8.59364081,\n",
              "        9.0828491 ,  7.84560809,  8.70507375,  7.55077118,  8.21200886,\n",
              "        9.2753414 ,  7.25124597,  9.52755356,  8.4519986 , 10.07140835,\n",
              "        8.71318243,  8.4479884 ,  9.98983126,  7.78342181,  9.94556625,\n",
              "        8.78850983,  9.98293112,  8.98777225,  9.32853346,  9.21114736,\n",
              "        7.8180795 ,  8.93984021, 10.37052616,  9.3713987 ,  8.69222461,\n",
              "        8.77969899,  9.76621916, 11.47752824,  8.72259238,  9.41833699,\n",
              "        8.54855637,  8.49601591, 10.57892978,  8.36916637,  7.10100588,\n",
              "        9.18886394,  9.78172086])"
            ]
          },
          "metadata": {},
          "execution_count": 17
        }
      ]
    },
    {
      "cell_type": "markdown",
      "metadata": {
        "id": "WrohIkXtlO1D"
      },
      "source": [
        "## Visualize the clusters"
      ]
    },
    {
      "cell_type": "code",
      "execution_count": null,
      "metadata": {
        "id": "1hqlnHC0lO1E",
        "colab": {
          "base_uri": "https://localhost:8080/",
          "height": 737
        },
        "outputId": "a8d8681f-33c8-4b86-afed-59ebd6a2a9a6"
      },
      "outputs": [
        {
          "output_type": "display_data",
          "data": {
            "text/plain": [
              "<Figure size 1200x800 with 1 Axes>"
            ],
            "image/png": "[encoded data removed]"
          },
          "metadata": {}
        }
      ],
      "source": [
        "plt.figure(figsize = (12,8))\n",
        "plt.scatter(X[y_pred == 0, 0], X[y_pred == 0, 1], s = 100, c = 'red', label = 'Cluster 1')\n",
        "plt.scatter(X[y_pred == 1, 0], X[y_pred == 1, 1], s = 100, c = 'blue', label = 'Cluster 2')\n",
        "plt.scatter(X[y_pred == 2, 0], X[y_pred == 2, 1], s = 100, c = 'green', label = 'Cluster 3')\n",
        "plt.scatter(kmeans.cluster_centers_[:, 0], kmeans.cluster_centers_[:, 1], s = 300, c = 'yellow', label = 'Centroids')\n",
        "plt.title('Clusters', fontsize = 25)\n",
        "plt.xlabel('First Feature', fontsize = 15)\n",
        "plt.ylabel('Second Feature', fontsize = 15)\n",
        "plt.legend(fontsize = 15)\n",
        "plt.show()"
      ]
    },
    {
      "cell_type": "markdown",
      "metadata": {
        "id": "4NjL8pigOQOr"
      },
      "source": [
        "# Evaluating K-means performance by Calinski-Harabasz ( CH ) Index"
      ]
    },
    {
      "cell_type": "code",
      "execution_count": null,
      "metadata": {
        "id": "jAY3V0j8lO1E",
        "colab": {
          "base_uri": "https://localhost:8080/"
        },
        "outputId": "df4491c7-735d-4ec1-bf5d-44388d21d017"
      },
      "outputs": [
        {
          "output_type": "execute_result",
          "data": {
            "text/plain": [
              "3453.183319092555"
            ]
          },
          "metadata": {},
          "execution_count": 19
        }
      ],
      "source": [
        "import sklearn\n",
        "sklearn.metrics.calinski_harabasz_score(X, y_pred)"
      ]
    },
    {
      "cell_type": "markdown",
      "metadata": {
        "id": "NaTFEKdxOQOs"
      },
      "source": [
        "## For two clusters"
      ]
    },
    {
      "cell_type": "code",
      "execution_count": null,
      "metadata": {
        "id": "Zig_5T_hOQOs",
        "colab": {
          "base_uri": "https://localhost:8080/"
        },
        "outputId": "5be6251d-b51e-40fa-bfe8-da2278f87c23"
      },
      "outputs": [
        {
          "output_type": "stream",
          "name": "stderr",
          "text": [
            "/usr/local/lib/python3.10/dist-packages/sklearn/cluster/_kmeans.py:870: FutureWarning: The default value of `n_init` will change from 10 to 'auto' in 1.4. Set the value of `n_init` explicitly to suppress the warning\n",
            "  warnings.warn(\n"
          ]
        }
      ],
      "source": [
        "kmeans = KMeans(n_clusters = 2, init = 'k-means++', random_state = 42)\n",
        "y_pred = kmeans.fit_predict(X)"
      ]
    },
    {
      "cell_type": "code",
      "execution_count": null,
      "metadata": {
        "id": "aF7UvQaJOQOs",
        "colab": {
          "base_uri": "https://localhost:8080/"
        },
        "outputId": "159c1d28-f17d-4a72-938b-887e037f87b4"
      },
      "outputs": [
        {
          "output_type": "execute_result",
          "data": {
            "text/plain": [
              "501.47610582855657"
            ]
          },
          "metadata": {},
          "execution_count": 21
        }
      ],
      "source": [
        "import sklearn\n",
        "sklearn.metrics.calinski_harabasz_score(X, y_pred)"
      ]
    },
    {
      "cell_type": "markdown",
      "metadata": {
        "id": "hSVv5qMlOQOt"
      },
      "source": [
        "## For Four Clusters"
      ]
    },
    {
      "cell_type": "code",
      "execution_count": null,
      "metadata": {
        "id": "QRd90S_jOQOt",
        "colab": {
          "base_uri": "https://localhost:8080/"
        },
        "outputId": "f4c7e929-c1d0-44ff-874d-1252cc967bc1"
      },
      "outputs": [
        {
          "output_type": "stream",
          "name": "stderr",
          "text": [
            "/usr/local/lib/python3.10/dist-packages/sklearn/cluster/_kmeans.py:870: FutureWarning: The default value of `n_init` will change from 10 to 'auto' in 1.4. Set the value of `n_init` explicitly to suppress the warning\n",
            "  warnings.warn(\n"
          ]
        }
      ],
      "source": [
        "kmeans = KMeans(n_clusters = 4, init = 'k-means++', random_state = 42)\n",
        "y_pred = kmeans.fit_predict(X)"
      ]
    },
    {
      "cell_type": "code",
      "execution_count": null,
      "metadata": {
        "id": "KIAmWgJNOQOt",
        "colab": {
          "base_uri": "https://localhost:8080/"
        },
        "outputId": "593b3928-68b0-45c3-8d5c-50a00c319d6c"
      },
      "outputs": [
        {
          "output_type": "execute_result",
          "data": {
            "text/plain": [
              "2641.6663030118975"
            ]
          },
          "metadata": {},
          "execution_count": 23
        }
      ],
      "source": [
        "import sklearn\n",
        "sklearn.metrics.calinski_harabasz_score(X, y_pred)"
      ]
    },
    {
      "cell_type": "markdown",
      "metadata": {
        "id": "lRAgM5D4OQOt"
      },
      "source": [
        "## For 10 Clusters"
      ]
    },
    {
      "cell_type": "code",
      "execution_count": null,
      "metadata": {
        "id": "_E7UnfpDOQOt",
        "colab": {
          "base_uri": "https://localhost:8080/"
        },
        "outputId": "040367f4-0a50-4c93-aaad-54149207d29e"
      },
      "outputs": [
        {
          "output_type": "stream",
          "name": "stderr",
          "text": [
            "/usr/local/lib/python3.10/dist-packages/sklearn/cluster/_kmeans.py:870: FutureWarning: The default value of `n_init` will change from 10 to 'auto' in 1.4. Set the value of `n_init` explicitly to suppress the warning\n",
            "  warnings.warn(\n"
          ]
        }
      ],
      "source": [
        "kmeans = KMeans(n_clusters = 10, init = 'k-means++', random_state = 42)\n",
        "y_pred = kmeans.fit_predict(X)"
      ]
    },
    {
      "cell_type": "code",
      "execution_count": null,
      "metadata": {
        "id": "NXO-4eAfOQOu",
        "colab": {
          "base_uri": "https://localhost:8080/"
        },
        "outputId": "0f4820e6-c4bc-4d70-dbdd-13cb603c5d2a"
      },
      "outputs": [
        {
          "output_type": "execute_result",
          "data": {
            "text/plain": [
              "1947.5903270783797"
            ]
          },
          "metadata": {},
          "execution_count": 25
        }
      ],
      "source": [
        "import sklearn\n",
        "sklearn.metrics.calinski_harabasz_score(X, y_pred)"
      ]
    },
    {
      "cell_type": "code",
      "execution_count": null,
      "metadata": {
        "id": "1ACLVqvUOQOu"
      },
      "outputs": [],
      "source": []
    }
  ],
  "metadata": {
    "colab": {
      "provenance": [],
      "include_colab_link": true
    },
    "kernelspec": {
      "display_name": "Python 3 (ipykernel)",
      "language": "python",
      "name": "python3"
    },
    "language_info": {
      "codemirror_mode": {
        "name": "ipython",
        "version": 3
      },
      "file_extension": ".py",
      "mimetype": "text/x-python",
      "name": "python",
      "nbconvert_exporter": "python",
      "pygments_lexer": "ipython3",
      "version": "3.9.7"
    }
  },
  "nbformat": 4,
  "nbformat_minor": 0
}